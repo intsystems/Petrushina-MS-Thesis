{
 "cells": [
  {
   "cell_type": "code",
   "execution_count": 1,
   "metadata": {},
   "outputs": [
    {
     "name": "stderr",
     "output_type": "stream",
     "text": [
      "/home/petrushina/miniconda3/envs/llm/lib/python3.10/site-packages/datasets/load.py:2547: FutureWarning: 'use_auth_token' was deprecated in favor of 'token' in version 2.14.0 and will be removed in 3.0.0.\n",
      "You can remove this warning by passing 'token=<use_auth_token>' instead.\n",
      "  warnings.warn(\n",
      "/home/petrushina/miniconda3/envs/llm/lib/python3.10/site-packages/datasets/load.py:1486: FutureWarning: The repository for nlphuji/wmtis-identify contains custom code which must be executed to correctly load the dataset. You can inspect the repository content at https://hf.co/datasets/nlphuji/wmtis-identify\n",
      "You can avoid this message in future by passing the argument `trust_remote_code=True`.\n",
      "Passing `trust_remote_code=True` will be mandatory to load this dataset from the next major release of `datasets`.\n",
      "  warnings.warn(\n"
     ]
    }
   ],
   "source": [
    "from datasets import load_dataset\n",
    "\n",
    "wmtis = load_dataset(\"nlphuji/wmtis-identify\")['test']\n",
    "normal_ims = wmtis['normal_image']\n",
    "strange_ims = wmtis['strange_image']"
   ]
  },
  {
   "cell_type": "code",
   "execution_count": 2,
   "metadata": {},
   "outputs": [
    {
     "name": "stderr",
     "output_type": "stream",
     "text": [
      "Special tokens have been added in the vocabulary, make sure the associated word embeddings are fine-tuned or trained.\n",
      "The model weights are not tied. Please use the `tie_weights` method before using the `infer_auto_device` function.\n"
     ]
    },
    {
     "data": {
      "application/vnd.jupyter.widget-view+json": {
       "model_id": "851685a0832e4beca4cb54ef67b4454b",
       "version_major": 2,
       "version_minor": 0
      },
      "text/plain": [
       "Loading checkpoint shards:   0%|          | 0/4 [00:00<?, ?it/s]"
      ]
     },
     "metadata": {},
     "output_type": "display_data"
    }
   ],
   "source": [
    "import torch\n",
    "\n",
    "from transformers import LlavaNextProcessor, LlavaNextForConditionalGeneration, AutoTokenizer, AutoModelForSequenceClassification\n",
    "\n",
    "prompt = \"\"\"[INST]\n",
    "List 10 different facts (captions) about this picture. Give the facts only about the content of the image, where one fact describes one feature of the image.\n",
    "To describe people, objects, and events, use information from Wikipedia for well-known entities.\n",
    "In cases of ambiguity in the image, describe each part separately.\n",
    "Include information about objects, subjects, environments, their descriptions, and actions. \n",
    "The format of the facts should be: subject predicate addition.\n",
    "Follow this template:\n",
    "1.\n",
    "2.\n",
    "3.\n",
    "<image>[/INST]\"\"\"\n",
    "\n",
    "captioning_model = \"llava-hf/llava-v1.6-mistral-7b-hf\"\n",
    "\n",
    "llava_processor = LlavaNextProcessor.from_pretrained(captioning_model)\n",
    "llava_model = LlavaNextForConditionalGeneration.from_pretrained(captioning_model, torch_dtype=torch.float16, low_cpu_mem_usage=True, device_map=\"auto\")\n",
    "\n",
    "nli_model = 'sileod/deberta-v3-base-tasksource-nli'#, 'MoritzLaurer/mDeBERTa-v3-base-xnli-multilingual-nli-2mil7'\n",
    "\n",
    "def aggregate_nli(prediction):\n",
    "    return prediction['entailment'] - prediction['contradiction']\n",
    "\n",
    "device = torch.device(\"cuda\")\n",
    "tokenizer = AutoTokenizer.from_pretrained(nli_model)\n",
    "model = AutoModelForSequenceClassification.from_pretrained(nli_model).to(device)\n",
    "\n",
    "label_to_id = {\n",
    "    'entailment': 1,\n",
    "    'neutral': 0,\n",
    "    'contradiction': -1\n",
    "}"
   ]
  },
  {
   "cell_type": "code",
   "execution_count": 4,
   "metadata": {},
   "outputs": [
    {
     "data": {
      "application/vnd.jupyter.widget-view+json": {
       "model_id": "559e226197794f708b36fd2df97789bc",
       "version_major": 2,
       "version_minor": 0
      },
      "text/plain": [
       "  0%|          | 0/102 [00:00<?, ?it/s]"
      ]
     },
     "metadata": {},
     "output_type": "display_data"
    }
   ],
   "source": [
    "from tqdm.notebook import tqdm\n",
    "from runner import process_image\n",
    "\n",
    "metrics = []\n",
    "\n",
    "for image in tqdm(normal_ims):\n",
    "    metric = process_image(image, llava_processor, llava_model, prompt, aggregate_nli, tokenizer, model, device, True, False)\n",
    "    metrics.append(metric)"
   ]
  },
  {
   "cell_type": "code",
   "execution_count": 7,
   "metadata": {},
   "outputs": [
    {
     "data": {
      "application/vnd.jupyter.widget-view+json": {
       "model_id": "c99b156b23624097b565f24a34d25bda",
       "version_major": 2,
       "version_minor": 0
      },
      "text/plain": [
       "  0%|          | 0/102 [00:00<?, ?it/s]"
      ]
     },
     "metadata": {},
     "output_type": "display_data"
    }
   ],
   "source": [
    "s_metrics = []\n",
    "\n",
    "for image in tqdm(strange_ims):\n",
    "    metric = process_image(image, llava_processor, llava_model, prompt, aggregate_nli, tokenizer, model, device, True, False)\n",
    "    s_metrics.append(metric)"
   ]
  },
  {
   "cell_type": "code",
   "execution_count": 8,
   "metadata": {},
   "outputs": [],
   "source": [
    "import numpy as np\n",
    "\n",
    "with open('strange.npy', 'wb') as f:\n",
    "    np.save(f, s_metrics)"
   ]
  },
  {
   "cell_type": "code",
   "execution_count": 12,
   "metadata": {},
   "outputs": [
    {
     "data": {
      "image/png": "[encoded data removed]",
      "text/plain": [
       "<Figure size 640x480 with 1 Axes>"
      ]
     },
     "metadata": {},
     "output_type": "display_data"
    }
   ],
   "source": [
    "import matplotlib.pyplot as plt\n",
    "\n",
    "plt.hist(metrics, alpha=0.4, label='normal')\n",
    "plt.hist(s_metrics, alpha=0.4, label='strange')\n",
    "plt.legend();"
   ]
  },
  {
   "cell_type": "code",
   "execution_count": 21,
   "metadata": {},
   "outputs": [
    {
     "data": {
      "text/plain": [
       "KstestResult(statistic=0.3137254901960784, pvalue=3.8721354649165894e-05, statistic_location=-6.04, statistic_sign=1)"
      ]
     },
     "execution_count": 21,
     "metadata": {},
     "output_type": "execute_result"
    }
   ],
   "source": [
    "import scipy.stats as sps\n",
    "\n",
    "sps.kstest(s_metrics, metrics, alternative='greater')"
   ]
  },
  {
   "cell_type": "code",
   "execution_count": 17,
   "metadata": {},
   "outputs": [
    {
     "data": {
      "text/plain": [
       "0.6862745098039216"
      ]
     },
     "execution_count": 17,
     "metadata": {},
     "output_type": "execute_result"
    }
   ],
   "source": [
    "(np.array(metrics) > np.array(s_metrics)).mean()"
   ]
  },
  {
   "cell_type": "code",
   "execution_count": null,
   "metadata": {},
   "outputs": [],
   "source": []
  }
 ],
 "metadata": {
  "kernelspec": {
   "display_name": "llm",
   "language": "python",
   "name": "python3"
  },
  "language_info": {
   "codemirror_mode": {
    "name": "ipython",
    "version": 3
   },
   "file_extension": ".py",
   "mimetype": "text/x-python",
   "name": "python",
   "nbconvert_exporter": "python",
   "pygments_lexer": "ipython3",
   "version": "3.10.14"
  }
 },
 "nbformat": 4,
 "nbformat_minor": 2
}
