{
 "cells": [
  {
   "cell_type": "code",
   "execution_count": 1,
   "id": "e1516b45-8aca-45e9-8bf1-b4ad261f2143",
   "metadata": {
    "scrolled": true
   },
   "outputs": [
    {
     "name": "stderr",
     "output_type": "stream",
     "text": [
      "/home/petrushina/miniconda3/envs/llm/lib/python3.10/site-packages/huggingface_hub/file_download.py:1132: FutureWarning: `resume_download` is deprecated and will be removed in version 1.0.0. Downloads always resume when possible. If you want to force a new download, use `force_download=True`.\n",
      "  warnings.warn(\n",
      "/home/petrushina/miniconda3/envs/llm/lib/python3.10/site-packages/transformers/convert_slow_tokenizer.py:560: UserWarning: The sentencepiece tokenizer that you are converting to a fast tokenizer uses the byte fallback option which is not implemented in the fast tokenizers. In practice this means that the fast version of the tokenizer can produce unknown tokens whereas the sentencepiece version would have converted these unknown tokens into a sequence of byte tokens matching the original piece of text.\n",
      "  warnings.warn(\n"
     ]
    }
   ],
   "source": [
    "from sentence_transformers import CrossEncoder\n",
    "\n",
    "model = CrossEncoder('cross-encoder/nli-deberta-v3-large')\n",
    "# model = CrossEncoder('cross-encoder/nli-deberta-v3-small')\n",
    "# model = CrossEncoder('cross-encoder/nli-deberta-v3-base')"
   ]
  },
  {
   "cell_type": "code",
   "execution_count": 2,
   "id": "dd4250d9",
   "metadata": {},
   "outputs": [],
   "source": [
    "# import os\n",
    "# os.environ[\"CUDA_DEVICE_ORDER\"]=\"PCI_BUS_ID\"   # see issue #152\n",
    "# os.environ[\"CUDA_VISIBLE_DEVICES\"]=\"1\""
   ]
  },
  {
   "cell_type": "code",
   "execution_count": 3,
   "id": "fe595e0c",
   "metadata": {},
   "outputs": [],
   "source": [
    "# model.to('cuda:1')"
   ]
  },
  {
   "cell_type": "code",
   "execution_count": 2,
   "id": "460fbe1a-0252-45ef-93ae-2a4aa2923f49",
   "metadata": {},
   "outputs": [],
   "source": [
    "import json\n",
    "from pathlib import Path\n",
    "from typing import Any, List\n",
    "import itertools\n",
    "\n",
    "def read_jsonl(path: Path):\n",
    "    with path.open(encoding='utf-8') as f:\n",
    "        return [json.loads(line) for line in f]\n",
    "\n",
    "data = read_jsonl(Path(\"5_facts_llava_mistral_16_diversity_1_0.jsonl\"))"
   ]
  },
  {
   "cell_type": "code",
   "execution_count": 3,
   "id": "a4b8271d-474e-44fe-a702-0f51934b9747",
   "metadata": {},
   "outputs": [],
   "source": [
    "import torch\n",
    "\n",
    "def filter_sents(input):\n",
    "    res = []\n",
    "    for sent in input:\n",
    "        if 'digital' not in sent:\n",
    "            res.append(sent)\n",
    "    return res\n",
    "\n",
    "def get_ce_score(pairs):\n",
    "    scores = model.predict(pairs)\n",
    "    label_names = ['contradiction', 'entailment', 'neutral']\n",
    "    predictions = []\n",
    "    for pred in scores:\n",
    "        predictions.append({name: round(float(pred), 2) for pred, name in zip(pred, label_names)})\n",
    "    return predictions\n",
    "\n",
    "def get_custom_scores(input):\n",
    "    # input = filter_sents(input)\n",
    "\n",
    "    pairs = list(itertools.combinations(input, r=2))\n",
    "    \n",
    "    formatted_pairs = [(pair[0], pair[1]) for pair in pairs]\n",
    "    scores_1 = get_ce_score(formatted_pairs)\n",
    "\n",
    "    formatted_pairs = [(pair[1], pair[0]) for pair in pairs]\n",
    "    scores_2 = get_ce_score(formatted_pairs)\n",
    "    return scores_1, scores_2"
   ]
  },
  {
   "cell_type": "code",
   "execution_count": 4,
   "id": "1f32a9d0-10d9-45e7-be87-aeb1cc924e9e",
   "metadata": {},
   "outputs": [],
   "source": [
    "def get_scores(input):\n",
    "    pairs = list(itertools.combinations(input, r=2))\n",
    "\n",
    "    formatted_pairs = [{\"text\": pair[0], \"text_pair\": pair[1]} for pair in pairs]\n",
    "    scores_1 = pipe(formatted_pairs, top_k=3)\n",
    "\n",
    "    formatted_pairs = [{\"text\": pair[1], \"text_pair\": pair[0]} for pair in pairs]\n",
    "    scores_2 = pipe(formatted_pairs, top_k=3)\n",
    "    \n",
    "    return scores_1, scores_2"
   ]
  },
  {
   "cell_type": "code",
   "execution_count": 5,
   "id": "d083745e",
   "metadata": {},
   "outputs": [],
   "source": [
    "def get_digital(facts):\n",
    "    res = 0\n",
    "    for i in facts:\n",
    "        if 'digital' in i or 'rendering' in i or 'artistic' in i:\n",
    "            # print(i)\n",
    "            res += 1\n",
    "        \n",
    "    return res\n",
    "\n",
    "norm = []\n",
    "strange = []\n",
    "\n",
    "for s in data:\n",
    "    norm.append(get_digital(s['normal']))\n",
    "    strange.append(get_digital(s['strange']), )"
   ]
  },
  {
   "cell_type": "code",
   "execution_count": 6,
   "id": "404cdfbb",
   "metadata": {},
   "outputs": [
    {
     "data": {
      "text/plain": [
       "(47, 87)"
      ]
     },
     "execution_count": 6,
     "metadata": {},
     "output_type": "execute_result"
    }
   ],
   "source": [
    "sum(norm), sum(strange)"
   ]
  },
  {
   "cell_type": "code",
   "execution_count": 7,
   "id": "fd12ed4c-b882-4712-b805-d0d766626a00",
   "metadata": {},
   "outputs": [
    {
     "name": "stderr",
     "output_type": "stream",
     "text": [
      "100%|██████████| 102/102 [00:16<00:00,  6.20it/s]\n"
     ]
    }
   ],
   "source": [
    "from tqdm import tqdm\n",
    "import itertools\n",
    "\n",
    "normal_scores = []\n",
    "strange_scores = []\n",
    "\n",
    "for sample in tqdm(data):\n",
    "    normal_scores.append(get_custom_scores(sample['normal']))\n",
    "    strange_scores.append(get_custom_scores(sample['strange']))"
   ]
  },
  {
   "cell_type": "code",
   "execution_count": 21,
   "id": "8751d168",
   "metadata": {},
   "outputs": [],
   "source": [
    "facts = []\n",
    "\n",
    "for sample in data:\n",
    "    facts.append(sample['normal'])\n",
    "for sample in data:\n",
    "    facts.append(sample['strange'])"
   ]
  },
  {
   "cell_type": "code",
   "execution_count": 8,
   "id": "d2edbe81-343e-4a43-843b-51e33b1dcaec",
   "metadata": {},
   "outputs": [],
   "source": [
    "def weighted_agg(input, ent_w=1, cont_w=-1, neutral_w=0.5):\n",
    "    # ent = list(filter(lambda x: x['label'] == 'entailment', input))[0]['score']\n",
    "    # cont = list(filter(lambda x: x['label'] == 'contradiction', input))[0]['score']\n",
    "    # neutral = list(filter(lambda x: x['label'] == 'neutral', input))[0]['score']\n",
    "\n",
    "    ent = input['entailment']\n",
    "    cont = input['contradiction']\n",
    "    neutral = input['neutral']\n",
    "    \n",
    "    weighted_sum = ent_w * ent + neutral_w * neutral + cont_w * cont\n",
    "    return weighted_sum"
   ]
  },
  {
   "cell_type": "code",
   "execution_count": 9,
   "id": "8aa5bf98-741b-41f1-9d34-785abaa8f708",
   "metadata": {},
   "outputs": [],
   "source": [
    "from scipy.stats import hmean\n",
    "from sklearn.cluster import KMeans\n",
    "\n",
    "def aggregation(scores_1, scores_2, ent_w=1, cont_w=-1, neutral_w=0):\n",
    "    agg_1 = [weighted_agg(s, ent_w, cont_w, neutral_w) for s in scores_1]\n",
    "    agg_2 = [weighted_agg(s, ent_w, cont_w, neutral_w) for s in scores_2]\n",
    "\n",
    "    agg = np.array(agg_1 + agg_2)\n",
    "    # agg = np.array(min(agg_1, agg_2))\n",
    "    # agg = np.array(min(agg_1, agg_2, key=sum))\n",
    "\n",
    "    kmeans = KMeans(n_clusters=2, random_state=0, n_init=\"auto\").fit(agg.reshape(-1, 1))\n",
    "    centroids = kmeans.cluster_centers_\n",
    "    return np.min(centroids), [agg_1, agg_2]\n"
   ]
  },
  {
   "cell_type": "markdown",
   "id": "a630770d-8537-4d35-b660-b3a135cdf783",
   "metadata": {},
   "source": [
    "### Default parameters"
   ]
  },
  {
   "cell_type": "code",
   "execution_count": 10,
   "id": "b67f0d9a-5aef-4496-9f95-cc5f292e01be",
   "metadata": {
    "scrolled": true
   },
   "outputs": [],
   "source": [
    "# !mkdir scores/deberta-ce\n",
    "import pickle"
   ]
  },
  {
   "cell_type": "code",
   "execution_count": 11,
   "id": "e7e6571a-40c2-459d-8903-703b76ac8064",
   "metadata": {
    "scrolled": true
   },
   "outputs": [],
   "source": [
    "import numpy as np\n",
    "from sklearn.metrics import accuracy_score\n",
    "\n",
    "normal_agg_scores = []\n",
    "strange_agg_scores = []\n",
    "\n",
    "for normal_score, strange_score in zip(normal_scores, strange_scores):\n",
    "    normal_agg_scores.append(aggregation(*normal_score, ent_w=1.75, cont_w=-2, neutral_w=0)[1])\n",
    "    strange_agg_scores.append(aggregation(*strange_score, ent_w=1.75, cont_w=-2, neutral_w=0)[1])"
   ]
  },
  {
   "cell_type": "code",
   "execution_count": 15,
   "id": "31a4c955",
   "metadata": {},
   "outputs": [],
   "source": [
    "pairs = list(itertools.combinations(np.arange(5), r=2))"
   ]
  },
  {
   "cell_type": "code",
   "execution_count": 16,
   "id": "175f43c6",
   "metadata": {},
   "outputs": [],
   "source": [
    "normal_scores_matrix = []\n",
    "\n",
    "for norm_score in normal_agg_scores:\n",
    "    matrix = np.ones((5, 5)) * 25\n",
    "    for p, score in zip(pairs, norm_score[0]):\n",
    "        matrix[p[0], p[1]] = score\n",
    "    for p, score in zip(pairs, norm_score[1]):\n",
    "        matrix[p[1], p[0]] = score\n",
    "    normal_scores_matrix.append(matrix)\n"
   ]
  },
  {
   "cell_type": "code",
   "execution_count": 17,
   "id": "3acab14e",
   "metadata": {},
   "outputs": [],
   "source": [
    "strange_scores_matrix = []\n",
    "\n",
    "for str_score in strange_agg_scores:\n",
    "    matrix = np.ones((5, 5)) * 25\n",
    "    for p, score in zip(pairs, str_score[0]):\n",
    "        matrix[p[0], p[1]] = score\n",
    "    for p, score in zip(pairs, str_score[1]):\n",
    "        matrix[p[1], p[0]] = score\n",
    "    strange_scores_matrix.append(matrix)"
   ]
  },
  {
   "cell_type": "code",
   "execution_count": 24,
   "id": "f79b9add",
   "metadata": {},
   "outputs": [],
   "source": [
    "import numpy as np\n",
    "from sklearn.metrics import accuracy_score\n",
    "\n",
    "normal_agg_scores = []\n",
    "strange_agg_scores = []\n",
    "\n",
    "for normal_score, strange_score in zip(normal_scores, strange_scores):\n",
    "    normal_agg_scores.append(aggregation(*normal_score, ent_w=1.75, cont_w=-2, neutral_w=0)[0])\n",
    "    strange_agg_scores.append(aggregation(*strange_score, ent_w=1.75, cont_w=-2, neutral_w=0)[0])"
   ]
  },
  {
   "cell_type": "code",
   "execution_count": 12,
   "id": "c6973178-6eeb-44ec-905f-6f1bdfea3e67",
   "metadata": {},
   "outputs": [
    {
     "data": {
      "image/png": "[encoded data removed]",
      "text/plain": [
       "<Figure size 1200x600 with 1 Axes>"
      ]
     },
     "metadata": {},
     "output_type": "display_data"
    },
    {
     "name": "stdout",
     "output_type": "stream",
     "text": [
      "KS Statistic: 0.45098039215686275\n",
      "P-value: 1.0171752271827722e-09\n"
     ]
    }
   ],
   "source": [
    "import numpy as np\n",
    "import matplotlib.pyplot as plt\n",
    "from scipy.stats import ks_2samp\n",
    "import seaborn as sns\n",
    "\n",
    "# Generate random sample data for demonstration\n",
    "np.random.seed(0)\n",
    "\n",
    "ims = np.arange(0, 5) + 5\n",
    "\n",
    "# Plot the distributions\n",
    "plt.figure(figsize=(12, 6))\n",
    "\n",
    "sns.histplot(normal_agg_scores, kde=True, color='blue', label='Data1', stat='density', bins=30, alpha=0.6)\n",
    "sns.histplot(strange_agg_scores, kde=True, color='red', label='Data2', stat='density', bins=30, alpha=0.6)\n",
    "\n",
    "plt.title('Distribution Comparison')\n",
    "plt.xlabel('Value')\n",
    "plt.ylabel('Density')\n",
    "plt.legend()\n",
    "plt.savefig('scores.png')\n",
    "plt.show()\n",
    "\n",
    "# Perform KS test\n",
    "ks_statistic, p_value = ks_2samp(normal_agg_scores, strange_agg_scores)\n",
    "\n",
    "\n",
    "print(f\"KS Statistic: {ks_statistic}\")\n",
    "print(f\"P-value: {p_value}\")"
   ]
  },
  {
   "cell_type": "code",
   "execution_count": 13,
   "id": "b2149a92-881f-4288-a2b9-6353c5f96e9c",
   "metadata": {},
   "outputs": [],
   "source": [
    "import numpy as np\n",
    "true_classes = np.array([0] * 102 + [1] * 102)\n"
   ]
  },
  {
   "cell_type": "code",
   "execution_count": 21,
   "id": "77f97b94",
   "metadata": {},
   "outputs": [
    {
     "data": {
      "text/plain": [
       "0.7220299884659745"
      ]
     },
     "execution_count": 21,
     "metadata": {},
     "output_type": "execute_result"
    }
   ],
   "source": [
    "from sklearn.metrics import roc_auc_score\n",
    "\n",
    "roc_auc_score(true_classes, strange_agg_scores + normal_agg_scores)"
   ]
  },
  {
   "cell_type": "code",
   "execution_count": 14,
   "id": "17702539",
   "metadata": {},
   "outputs": [],
   "source": [
    "preds = normal_agg_scores + strange_agg_scores\n",
    "bin_preds = np.array(preds) < 0"
   ]
  },
  {
   "cell_type": "code",
   "execution_count": null,
   "id": "cca0de34",
   "metadata": {},
   "outputs": [],
   "source": [
    "digital_preds = []\n",
    "\n",
    "for f in facts:\n",
    "    digital_preds.append(int(get_digital(f) > 0))\n"
   ]
  },
  {
   "cell_type": "code",
   "execution_count": 16,
   "id": "14ea1b94",
   "metadata": {},
   "outputs": [],
   "source": [
    "normal = \"\"\"no hal\n",
    "no hal\n",
    "no hal\n",
    "no hal\n",
    "no hal\n",
    "no hal\n",
    "no hal\n",
    "no hal\n",
    "no hal\n",
    "no hal\n",
    "no hal\n",
    "hal\n",
    "no hal\n",
    "no hal\n",
    "no hal\n",
    "hal\n",
    "no hal\n",
    "no hal\n",
    "no hal\n",
    "no hal\n",
    "no hal\n",
    "hal\n",
    "hal\n",
    "no hal\n",
    "hal\n",
    "no hal\n",
    "hal\n",
    "no hal\n",
    "hal\n",
    "no hal\n",
    "no hal\n",
    "no hal\n",
    "hal\n",
    "no hal\n",
    "no hal\n",
    "no hal\n",
    "no hal\n",
    "no hal\n",
    "no hal\n",
    "no hal\n",
    "no hal\n",
    "no hal\n",
    "hal\n",
    "no hal\n",
    "hal\n",
    "no hal\n",
    "no hal\n",
    "no hal\n",
    "maybe hal\n",
    "no hal\n",
    "no hal\n",
    "no hal\n",
    "no hal\n",
    "no hal\n",
    "no hal\n",
    "no hal\n",
    "no hal\n",
    "no hal\n",
    "no hal\n",
    "hal\n",
    "hal\n",
    "hal\n",
    "no hal\n",
    "no hal\n",
    "no hal\n",
    "no hal\n",
    "no hal\n",
    "no hal\n",
    "no hal\n",
    "no hal\n",
    "no hal\n",
    "no hal\n",
    "no hal\n",
    "no hal\n",
    "no hal\n",
    "no hal\n",
    "no hal\n",
    "no hal\n",
    "no hal\n",
    "no hal\n",
    "no hal\n",
    "no hal\n",
    "no hal\n",
    "no hal\n",
    "no hal\n",
    "no hal\n",
    "no hal\n",
    "no hal\n",
    "no hal\n",
    "hal\n",
    "no hal\n",
    "no hal\n",
    "no hal\n",
    "hal\n",
    "no hal\n",
    "hal\n",
    "no hal\n",
    "no hal\n",
    "no hal\n",
    "hal\n",
    "no hal\n",
    "hal\"\"\"\n",
    "\n",
    "hals = []\n",
    "\n",
    "for a in normal.split('\\n'):\n",
    "    # if a == 'hal':\n",
    "    hals.append(int(a == 'hal'))\n",
    "# hal = []"
   ]
  },
  {
   "cell_type": "code",
   "execution_count": 17,
   "id": "5c050afc",
   "metadata": {},
   "outputs": [],
   "source": [
    "st = \"\"\"hal\n",
    "no hal\n",
    "no hal\n",
    "no hal\n",
    "hal\n",
    "no hal\n",
    "no hal\n",
    "no hal\n",
    "no hal\n",
    "hal\n",
    "no hal\n",
    "hal\n",
    "no hal\n",
    "no hal\n",
    "no hal\n",
    "no hal\n",
    "no hal\n",
    "hal\n",
    "hal\n",
    "no hal\n",
    "no hal\n",
    "no hal\n",
    "hal\n",
    "hal\n",
    "no hal\n",
    "no hal\n",
    "no hal\n",
    "hal\n",
    "no hal\n",
    "hal\n",
    "no hal\n",
    "no hal\n",
    "no hal\n",
    "no hal\n",
    "no hal\n",
    "hal\n",
    "no hal\n",
    "no hal\n",
    "hal\n",
    "no hal\n",
    "no hal\n",
    "hal\n",
    "no hal\n",
    "hal\n",
    "no hal\n",
    "no hal\n",
    "hal\n",
    "no hal\n",
    "no hal\n",
    "no hal\n",
    "hal\n",
    "no hal\n",
    "no hal\n",
    "no hal\n",
    "no hal\n",
    "no hal\n",
    "no hal\n",
    "hal\n",
    "hal\n",
    "hal\n",
    "hal\n",
    "no hal\n",
    "hal\n",
    "no hal\n",
    "hal\n",
    "hal\n",
    "no hal\n",
    "hal\n",
    "no hal\n",
    "hal\n",
    "hal\n",
    "no hal\n",
    "no hal\n",
    "no hal\n",
    "no hal\n",
    "no hal\n",
    "hal\n",
    "no hal\n",
    "no hal\n",
    "hal\n",
    "no hal\n",
    "hal\n",
    "no hal\n",
    "no hal\n",
    "hal\n",
    "no hal\n",
    "hal\n",
    "no hal\n",
    "hal\n",
    "no hal\n",
    "no hal\n",
    "no hal\n",
    "no hal\n",
    "no hal\n",
    "hal\n",
    "no hal\n",
    "no hal\n",
    "no hal\n",
    "no hal\n",
    "no hal\n",
    "no hal\n",
    "hal\"\"\"\n",
    "\n",
    "for a in st.split('\\n'):\n",
    "    # if a == 'hal':\n",
    "    hals.append(int(a == 'hal'))\n",
    "# hal = []"
   ]
  },
  {
   "cell_type": "code",
   "execution_count": 28,
   "id": "7c18a9e3",
   "metadata": {},
   "outputs": [],
   "source": [
    "bin_dig = (np.array(dig) > 0).astype(int)"
   ]
  },
  {
   "cell_type": "code",
   "execution_count": 34,
   "id": "717bd2b5",
   "metadata": {},
   "outputs": [
    {
     "data": {
      "text/plain": [
       "0.28232897584817607"
      ]
     },
     "execution_count": 34,
     "metadata": {},
     "output_type": "execute_result"
    }
   ],
   "source": [
    "from sklearn.metrics import matthews_corrcoef\n",
    "matthews_corrcoef(bin_preds, hals)"
   ]
  },
  {
   "cell_type": "code",
   "execution_count": 43,
   "id": "13014003",
   "metadata": {},
   "outputs": [
    {
     "name": "stdout",
     "output_type": "stream",
     "text": [
      "Phi Coefficient: 0.16872047649969282\n",
      "p-value: 0.01596081198198851\n",
      "The association between the variables is statistically significant.\n"
     ]
    }
   ],
   "source": [
    "import numpy as np\n",
    "from scipy.stats import chi2_contingency\n",
    "\n",
    "a = sum([1 if (b == 0 and h == 0)  else 0 for b, h in zip(bin_preds, hals) ]) \n",
    "b = sum([1 if (b == 0 and h == 1)  else 0 for b, h in zip(bin_preds, hals) ])\n",
    "c = sum([1 if (b == 1 and h == 0)  else 0 for b, h in zip(bin_preds, hals) ])\n",
    "d = sum([1 if (b == 1 and h == 1)  else 0 for b, h in zip(bin_preds, hals) ])\n",
    "\n",
    "\n",
    "contingency_table = np.array([[a, b],\n",
    "                              [c, d]])\n",
    "\n",
    "chi2, p, _, _ = chi2_contingency(contingency_table)\n",
    "\n",
    "n = contingency_table.sum()\n",
    "phi_coefficient = np.sqrt(chi2 / n)\n",
    "\n",
    "print(f\"Phi Coefficient: {phi_coefficient}\")\n",
    "print(f\"p-value: {p}\")\n",
    "\n",
    "alpha = 0.05\n",
    "if p < alpha:\n",
    "    print(\"The association between the variables is statistically significant.\")\n",
    "else:\n",
    "    print(\"The association between the variables is not statistically significant.\")\n"
   ]
  },
  {
   "cell_type": "code",
   "execution_count": 8,
   "id": "163671f0",
   "metadata": {},
   "outputs": [],
   "source": [
    "p_hn = [0, 0]\n",
    "p_hs = [0, 0]\n",
    "\n",
    "for s, h in zip(true_classes, hals):\n",
    "    if s:\n",
    "        p_hs[1] += 1\n",
    "        if h:\n",
    "            p_hs[0] += 1\n",
    "    else:\n",
    "        p_hn[1] += 1\n",
    "        if h:\n",
    "            p_hn[0] += 1"
   ]
  },
  {
   "cell_type": "code",
   "execution_count": 9,
   "id": "772100e8",
   "metadata": {},
   "outputs": [
    {
     "name": "stdout",
     "output_type": "stream",
     "text": [
      "P(hall|normal)=0.17647058823529413\n",
      "P(hall|strange)=0.3333333333333333\n"
     ]
    }
   ],
   "source": [
    "for p, name in zip([p_hn, p_hs], [\"hall|normal\", \"hall|strange\"]):\n",
    "    print(f\"P({name})={p[0]/p[1]}\")"
   ]
  },
  {
   "cell_type": "code",
   "execution_count": 22,
   "id": "64366b05",
   "metadata": {},
   "outputs": [],
   "source": [
    "dig = norm + strange"
   ]
  },
  {
   "cell_type": "code",
   "execution_count": 17,
   "id": "ca9b3c32",
   "metadata": {},
   "outputs": [],
   "source": [
    "p_dn = [0, 0]\n",
    "p_ds = [0, 0]\n",
    "\n",
    "for s, h in zip(true_classes, dig):\n",
    "    if s:\n",
    "        p_ds[1] += 1\n",
    "        if h:\n",
    "            p_ds[0] += 1\n",
    "    else:\n",
    "        p_dn[1] += 1\n",
    "        if h:\n",
    "            p_dn[0] += 1"
   ]
  },
  {
   "cell_type": "code",
   "execution_count": 19,
   "id": "7107c3bb",
   "metadata": {},
   "outputs": [
    {
     "name": "stdout",
     "output_type": "stream",
     "text": [
      "P(dig|normal)=0.35294117647058826\n",
      "P(dig|strange)=0.6568627450980392\n"
     ]
    }
   ],
   "source": [
    "for p, name in zip([p_dn, p_ds], [\"dig|normal\", \"dig|strange\"]):\n",
    "    print(f\"P({name})={p[0]/p[1]}\")"
   ]
  },
  {
   "cell_type": "code",
   "execution_count": 20,
   "id": "e072002e",
   "metadata": {},
   "outputs": [],
   "source": [
    "p_hdn = [0, 0]\n",
    "p_hds = [0, 0]\n",
    "\n",
    "for s, h, d in zip(true_classes, hals, dig):\n",
    "    if s:\n",
    "        p_hds[1] += 1\n",
    "        if h and d:\n",
    "            p_hds[0] += 1\n",
    "    else:\n",
    "        p_hdn[1] += 1\n",
    "        if h and d:\n",
    "            p_hdn[0] += 1"
   ]
  },
  {
   "cell_type": "code",
   "execution_count": 22,
   "id": "5fbbaf4f",
   "metadata": {},
   "outputs": [
    {
     "name": "stdout",
     "output_type": "stream",
     "text": [
      "P(dig & hal|normal)=0.049019607843137254\n",
      "P(dig & hal|strange)=0.21568627450980393\n"
     ]
    }
   ],
   "source": [
    "for p, name in zip([p_hdn, p_hds], [\"dig & hal|normal\", \"dig & hal|strange\"]):\n",
    "    print(f\"P({name})={p[0]/p[1]}\")"
   ]
  },
  {
   "cell_type": "code",
   "execution_count": 21,
   "id": "f07215fc",
   "metadata": {},
   "outputs": [],
   "source": [
    "p_sd = [0, 0] # num, den\n",
    "p_sh = [0, 0]\n",
    "p_shd = [0, 0]\n",
    "p_dh = [0, 0]\n",
    "\n",
    "for s, d, h in zip(bin_preds, digital_preds, hals):\n",
    "    if h:\n",
    "        p_sh[1] += 1\n",
    "        p_dh[1] += 1\n",
    "\n",
    "        if s:\n",
    "            p_sh[0] += 1\n",
    "        if d:\n",
    "            p_dh[0] += 1\n",
    "\n",
    "    if d:\n",
    "        p_sd[1] += 1\n",
    "        if s:\n",
    "            p_sd[0] += 1\n",
    "\n",
    "    if h and d:\n",
    "        p_shd[1] += 1\n",
    "        if s:\n",
    "            p_shd[0] += 1"
   ]
  },
  {
   "cell_type": "markdown",
   "id": "59e34527",
   "metadata": {},
   "source": [
    "Вероятности"
   ]
  },
  {
   "cell_type": "code",
   "execution_count": 22,
   "id": "502c6646",
   "metadata": {},
   "outputs": [
    {
     "name": "stdout",
     "output_type": "stream",
     "text": [
      "P(pred strange|digital)=0.7572815533980582\n",
      "P(pred strange|hal)=0.8076923076923077\n",
      "P(pred strange|hal&digital)=0.9259259259259259\n",
      "P(digital|hal)=0.5192307692307693\n"
     ]
    }
   ],
   "source": [
    "for p, name in zip([p_sd, p_sh, p_shd, p_dh], [\"pred strange|digital\", \"pred strange|hal\", \"pred strange|hal&digital\", \"digital|hal\"]):\n",
    "    print(f\"P({name})={p[0]/p[1]}\")"
   ]
  },
  {
   "cell_type": "code",
   "execution_count": 34,
   "id": "9d4ab6a6",
   "metadata": {},
   "outputs": [
    {
     "name": "stdout",
     "output_type": "stream",
     "text": [
      "P(strange|digital)=0.6504854368932039\n",
      "P(strange|hal)=0.6538461538461539\n",
      "P(strange|hal&digital)=0.8148148148148148\n",
      "P(digital|hal)=0.5192307692307693\n"
     ]
    }
   ],
   "source": [
    "for p, name in zip([p_sd, p_sh, p_shd, p_dh], [\"strange|digital\", \"strange|hal\", \"strange|hal&digital\", \"digital|hal\"]):\n",
    "    print(f\"P({name})={p[0]/p[1]}\")"
   ]
  },
  {
   "cell_type": "code",
   "execution_count": 38,
   "id": "bfaa8eac",
   "metadata": {},
   "outputs": [
    {
     "data": {
      "text/plain": [
       "[[67, 103], [34, 52], [22, 27], [27, 52]]"
      ]
     },
     "execution_count": 38,
     "metadata": {},
     "output_type": "execute_result"
    }
   ],
   "source": [
    "[p_sd, p_sh, p_shd, p_dh]"
   ]
  },
  {
   "cell_type": "markdown",
   "id": "e75e2ba4",
   "metadata": {},
   "source": [
    "Корреляции"
   ]
  },
  {
   "cell_type": "code",
   "execution_count": 37,
   "id": "b48a0d28",
   "metadata": {},
   "outputs": [
    {
     "name": "stdout",
     "output_type": "stream",
     "text": [
      "PearsonRResult(statistic=0.3039361756766328, pvalue=9.89739815343282e-06) PearsonRResult(statistic=0.1799685082663391, pvalue=0.010002733618734678)\n"
     ]
    }
   ],
   "source": [
    "from scipy.stats import pearsonr   \n",
    "\n",
    "print(pearsonr(true_classes, digital_preds), pearsonr(true_classes, hals))\n",
    "# np.corrcoef(bin_preds, hals)"
   ]
  },
  {
   "cell_type": "markdown",
   "id": "1474a1cb-2f1a-4319-905c-17480a9183df",
   "metadata": {},
   "source": [
    "##### explore"
   ]
  },
  {
   "cell_type": "code",
   "execution_count": 18,
   "id": "cb251a93-6124-4aab-b584-7efae52f39ac",
   "metadata": {},
   "outputs": [],
   "source": [
    "import pandas as pd\n",
    "\n",
    "df = pd.DataFrame(data)\n",
    "\n",
    "df['normal_score'] = normal_agg_scores\n",
    "df['strange_score'] = strange_agg_scores"
   ]
  },
  {
   "cell_type": "code",
   "execution_count": 19,
   "id": "e3231a2a-9a7e-4be0-8cbb-cc6717e314ba",
   "metadata": {
    "scrolled": true
   },
   "outputs": [
    {
     "data": {
      "text/html": [
       "<div>\n",
       "<style scoped>\n",
       "    .dataframe tbody tr th:only-of-type {\n",
       "        vertical-align: middle;\n",
       "    }\n",
       "\n",
       "    .dataframe tbody tr th {\n",
       "        vertical-align: top;\n",
       "    }\n",
       "\n",
       "    .dataframe thead th {\n",
       "        text-align: right;\n",
       "    }\n",
       "</style>\n",
       "<table border=\"1\" class=\"dataframe\">\n",
       "  <thead>\n",
       "    <tr style=\"text-align: right;\">\n",
       "      <th></th>\n",
       "      <th>normal</th>\n",
       "      <th>strange</th>\n",
       "      <th>normal_score</th>\n",
       "      <th>strange_score</th>\n",
       "    </tr>\n",
       "  </thead>\n",
       "  <tbody>\n",
       "    <tr>\n",
       "      <th>2</th>\n",
       "      <td>[The image depicts a large sailing ship with m...</td>\n",
       "      <td>[This is a digitally created image of a ship s...</td>\n",
       "      <td>-11.781667</td>\n",
       "      <td>4.465455</td>\n",
       "    </tr>\n",
       "    <tr>\n",
       "      <th>4</th>\n",
       "      <td>[Santa Claus is riding a team of reindeer thro...</td>\n",
       "      <td>[Santa Claus is riding a horse-drawn sleigh., ...</td>\n",
       "      <td>-2.331000</td>\n",
       "      <td>-17.468333</td>\n",
       "    </tr>\n",
       "    <tr>\n",
       "      <th>8</th>\n",
       "      <td>[The tank is surrounded by water., The image d...</td>\n",
       "      <td>[The tank is pink., This is a digitally altere...</td>\n",
       "      <td>-9.929000</td>\n",
       "      <td>-0.531818</td>\n",
       "    </tr>\n",
       "    <tr>\n",
       "      <th>11</th>\n",
       "      <td>[This is a relief of a pharaoh, possibly Rames...</td>\n",
       "      <td>[This image depicts an ancient Egyptian scene ...</td>\n",
       "      <td>-18.880000</td>\n",
       "      <td>-14.990000</td>\n",
       "    </tr>\n",
       "    <tr>\n",
       "      <th>19</th>\n",
       "      <td>[The house is in the middle of a field., This ...</td>\n",
       "      <td>[This image depicts a dilapidated house in a d...</td>\n",
       "      <td>-2.802667</td>\n",
       "      <td>-6.316429</td>\n",
       "    </tr>\n",
       "    <tr>\n",
       "      <th>21</th>\n",
       "      <td>[This is a painting of a woman looking at her ...</td>\n",
       "      <td>[The girl is looking at her reflection in the ...</td>\n",
       "      <td>-5.798333</td>\n",
       "      <td>-1.660000</td>\n",
       "    </tr>\n",
       "    <tr>\n",
       "      <th>22</th>\n",
       "      <td>[The bird is perched on a tree stump., This is...</td>\n",
       "      <td>[The bird has a red crest., This is a bird wit...</td>\n",
       "      <td>-6.986000</td>\n",
       "      <td>-6.333333</td>\n",
       "    </tr>\n",
       "    <tr>\n",
       "      <th>25</th>\n",
       "      <td>[The child is vacuuming the floor., This is a ...</td>\n",
       "      <td>[The man is using a vacuum cleaner on the beac...</td>\n",
       "      <td>-1.151667</td>\n",
       "      <td>-6.706364</td>\n",
       "    </tr>\n",
       "    <tr>\n",
       "      <th>28</th>\n",
       "      <td>[The woman is wearing a pink shirt and a brown...</td>\n",
       "      <td>[The woman is pregnant., This is a black and w...</td>\n",
       "      <td>-6.822727</td>\n",
       "      <td>-0.620769</td>\n",
       "    </tr>\n",
       "    <tr>\n",
       "      <th>31</th>\n",
       "      <td>[This is a black and white photo of a woman re...</td>\n",
       "      <td>[This is a black and white photo of a woman us...</td>\n",
       "      <td>-3.927000</td>\n",
       "      <td>-6.299286</td>\n",
       "    </tr>\n",
       "    <tr>\n",
       "      <th>35</th>\n",
       "      <td>[The skier is wearing a yellow jacket., A pers...</td>\n",
       "      <td>[A person is skiing down a sand dune., This im...</td>\n",
       "      <td>-8.630000</td>\n",
       "      <td>-10.501250</td>\n",
       "    </tr>\n",
       "    <tr>\n",
       "      <th>36</th>\n",
       "      <td>[The image is a black and white photograph., T...</td>\n",
       "      <td>[The woman is wearing a hat., This is a black ...</td>\n",
       "      <td>-8.325556</td>\n",
       "      <td>0.329286</td>\n",
       "    </tr>\n",
       "    <tr>\n",
       "      <th>37</th>\n",
       "      <td>[The image features a colorful fruit tart with...</td>\n",
       "      <td>[The cake is decorated with vegetables and oni...</td>\n",
       "      <td>-8.833000</td>\n",
       "      <td>7.240833</td>\n",
       "    </tr>\n",
       "    <tr>\n",
       "      <th>39</th>\n",
       "      <td>[This image features a bald man in a futuristi...</td>\n",
       "      <td>[The man is holding a small dog., This image f...</td>\n",
       "      <td>-12.475714</td>\n",
       "      <td>-2.004286</td>\n",
       "    </tr>\n",
       "    <tr>\n",
       "      <th>40</th>\n",
       "      <td>[The owl is flying over a fallen tree in a for...</td>\n",
       "      <td>[The owl is holding a corn in its talons., Thi...</td>\n",
       "      <td>-0.228571</td>\n",
       "      <td>-1.540714</td>\n",
       "    </tr>\n",
       "    <tr>\n",
       "      <th>42</th>\n",
       "      <td>[The man is smoking a pipe., The man in the im...</td>\n",
       "      <td>[The boy is smoking a cigarette., This is a di...</td>\n",
       "      <td>-15.325556</td>\n",
       "      <td>-0.120000</td>\n",
       "    </tr>\n",
       "    <tr>\n",
       "      <th>43</th>\n",
       "      <td>[The cat has striking yellow eyes., This is a ...</td>\n",
       "      <td>[This image depicts a red panda, a small mamma...</td>\n",
       "      <td>-0.845385</td>\n",
       "      <td>-17.655833</td>\n",
       "    </tr>\n",
       "    <tr>\n",
       "      <th>52</th>\n",
       "      <td>[The Eiffel Tower is illuminated at night., Th...</td>\n",
       "      <td>[The Eiffel Tower is illuminated at night., Th...</td>\n",
       "      <td>-1.095714</td>\n",
       "      <td>4.001250</td>\n",
       "    </tr>\n",
       "    <tr>\n",
       "      <th>56</th>\n",
       "      <td>[This is a 3D rendering of Pikachu, a popular ...</td>\n",
       "      <td>[This is a 3D rendering of Pikachu, a popular ...</td>\n",
       "      <td>-6.236000</td>\n",
       "      <td>-10.720000</td>\n",
       "    </tr>\n",
       "    <tr>\n",
       "      <th>57</th>\n",
       "      <td>[This image features a turtle in a natural hab...</td>\n",
       "      <td>[The turtle is swimming in the snow., This is ...</td>\n",
       "      <td>-1.471250</td>\n",
       "      <td>-19.732500</td>\n",
       "    </tr>\n",
       "    <tr>\n",
       "      <th>58</th>\n",
       "      <td>[The watermelon is cut in half, revealing its ...</td>\n",
       "      <td>[The image is a 3D rendering of a watermelon.,...</td>\n",
       "      <td>-13.371250</td>\n",
       "      <td>-10.302222</td>\n",
       "    </tr>\n",
       "    <tr>\n",
       "      <th>60</th>\n",
       "      <td>[This is a close-up photo of a person's feet w...</td>\n",
       "      <td>[The person is riding a skateboard on sand., T...</td>\n",
       "      <td>-3.451875</td>\n",
       "      <td>-1.373333</td>\n",
       "    </tr>\n",
       "    <tr>\n",
       "      <th>61</th>\n",
       "      <td>[This is a black and white photo of a person o...</td>\n",
       "      <td>[This is a digital artwork of a person on roll...</td>\n",
       "      <td>-7.992632</td>\n",
       "      <td>2.377778</td>\n",
       "    </tr>\n",
       "    <tr>\n",
       "      <th>62</th>\n",
       "      <td>[The soccer ball is white and black., This ima...</td>\n",
       "      <td>[This is a digitally manipulated image combini...</td>\n",
       "      <td>-0.202308</td>\n",
       "      <td>-14.783077</td>\n",
       "    </tr>\n",
       "    <tr>\n",
       "      <th>78</th>\n",
       "      <td>[This is a digitally created image of an allig...</td>\n",
       "      <td>[The crocodile is surrounded by icebergs., The...</td>\n",
       "      <td>-18.165000</td>\n",
       "      <td>-14.280000</td>\n",
       "    </tr>\n",
       "    <tr>\n",
       "      <th>81</th>\n",
       "      <td>[The Great Sphinx of Giza is a limestone statu...</td>\n",
       "      <td>[The Great Sphinx of Giza is a limestone statu...</td>\n",
       "      <td>-8.869000</td>\n",
       "      <td>-11.485000</td>\n",
       "    </tr>\n",
       "    <tr>\n",
       "      <th>83</th>\n",
       "      <td>[The polar bear is standing in the water., Thi...</td>\n",
       "      <td>[This is a digitally altered image of a polar ...</td>\n",
       "      <td>-7.691667</td>\n",
       "      <td>-0.866250</td>\n",
       "    </tr>\n",
       "    <tr>\n",
       "      <th>86</th>\n",
       "      <td>[This is a digitally altered image of Presiden...</td>\n",
       "      <td>[This image depicts a scene from the movie \"Li...</td>\n",
       "      <td>-0.196250</td>\n",
       "      <td>-9.212500</td>\n",
       "    </tr>\n",
       "    <tr>\n",
       "      <th>88</th>\n",
       "      <td>[The penguins are standing in the snow., This ...</td>\n",
       "      <td>[This image captures a group of penguins in mi...</td>\n",
       "      <td>-7.506667</td>\n",
       "      <td>-6.674000</td>\n",
       "    </tr>\n",
       "    <tr>\n",
       "      <th>89</th>\n",
       "      <td>[This is a digitally created image of a walrus...</td>\n",
       "      <td>[The two walruses are swimming in a body of wa...</td>\n",
       "      <td>-14.541000</td>\n",
       "      <td>-17.596250</td>\n",
       "    </tr>\n",
       "    <tr>\n",
       "      <th>95</th>\n",
       "      <td>[This is a photo of a whale shark swimming in ...</td>\n",
       "      <td>[The whale is leaping out of the water., This ...</td>\n",
       "      <td>-11.046364</td>\n",
       "      <td>-2.246250</td>\n",
       "    </tr>\n",
       "    <tr>\n",
       "      <th>97</th>\n",
       "      <td>[The zebras are standing in a field of tall gr...</td>\n",
       "      <td>[This image captures a serene moment in the wi...</td>\n",
       "      <td>-17.788333</td>\n",
       "      <td>-16.578571</td>\n",
       "    </tr>\n",
       "    <tr>\n",
       "      <th>101</th>\n",
       "      <td>[The man is wearing a cowboy hat., This is a d...</td>\n",
       "      <td>[The man is wearing a cowboy hat., The man in ...</td>\n",
       "      <td>-11.891538</td>\n",
       "      <td>-6.749167</td>\n",
       "    </tr>\n",
       "  </tbody>\n",
       "</table>\n",
       "</div>"
      ],
      "text/plain": [
       "                                                normal  \\\n",
       "2    [The image depicts a large sailing ship with m...   \n",
       "4    [Santa Claus is riding a team of reindeer thro...   \n",
       "8    [The tank is surrounded by water., The image d...   \n",
       "11   [This is a relief of a pharaoh, possibly Rames...   \n",
       "19   [The house is in the middle of a field., This ...   \n",
       "21   [This is a painting of a woman looking at her ...   \n",
       "22   [The bird is perched on a tree stump., This is...   \n",
       "25   [The child is vacuuming the floor., This is a ...   \n",
       "28   [The woman is wearing a pink shirt and a brown...   \n",
       "31   [This is a black and white photo of a woman re...   \n",
       "35   [The skier is wearing a yellow jacket., A pers...   \n",
       "36   [The image is a black and white photograph., T...   \n",
       "37   [The image features a colorful fruit tart with...   \n",
       "39   [This image features a bald man in a futuristi...   \n",
       "40   [The owl is flying over a fallen tree in a for...   \n",
       "42   [The man is smoking a pipe., The man in the im...   \n",
       "43   [The cat has striking yellow eyes., This is a ...   \n",
       "52   [The Eiffel Tower is illuminated at night., Th...   \n",
       "56   [This is a 3D rendering of Pikachu, a popular ...   \n",
       "57   [This image features a turtle in a natural hab...   \n",
       "58   [The watermelon is cut in half, revealing its ...   \n",
       "60   [This is a close-up photo of a person's feet w...   \n",
       "61   [This is a black and white photo of a person o...   \n",
       "62   [The soccer ball is white and black., This ima...   \n",
       "78   [This is a digitally created image of an allig...   \n",
       "81   [The Great Sphinx of Giza is a limestone statu...   \n",
       "83   [The polar bear is standing in the water., Thi...   \n",
       "86   [This is a digitally altered image of Presiden...   \n",
       "88   [The penguins are standing in the snow., This ...   \n",
       "89   [This is a digitally created image of a walrus...   \n",
       "95   [This is a photo of a whale shark swimming in ...   \n",
       "97   [The zebras are standing in a field of tall gr...   \n",
       "101  [The man is wearing a cowboy hat., This is a d...   \n",
       "\n",
       "                                               strange  normal_score  \\\n",
       "2    [This is a digitally created image of a ship s...    -11.781667   \n",
       "4    [Santa Claus is riding a horse-drawn sleigh., ...     -2.331000   \n",
       "8    [The tank is pink., This is a digitally altere...     -9.929000   \n",
       "11   [This image depicts an ancient Egyptian scene ...    -18.880000   \n",
       "19   [This image depicts a dilapidated house in a d...     -2.802667   \n",
       "21   [The girl is looking at her reflection in the ...     -5.798333   \n",
       "22   [The bird has a red crest., This is a bird wit...     -6.986000   \n",
       "25   [The man is using a vacuum cleaner on the beac...     -1.151667   \n",
       "28   [The woman is pregnant., This is a black and w...     -6.822727   \n",
       "31   [This is a black and white photo of a woman us...     -3.927000   \n",
       "35   [A person is skiing down a sand dune., This im...     -8.630000   \n",
       "36   [The woman is wearing a hat., This is a black ...     -8.325556   \n",
       "37   [The cake is decorated with vegetables and oni...     -8.833000   \n",
       "39   [The man is holding a small dog., This image f...    -12.475714   \n",
       "40   [The owl is holding a corn in its talons., Thi...     -0.228571   \n",
       "42   [The boy is smoking a cigarette., This is a di...    -15.325556   \n",
       "43   [This image depicts a red panda, a small mamma...     -0.845385   \n",
       "52   [The Eiffel Tower is illuminated at night., Th...     -1.095714   \n",
       "56   [This is a 3D rendering of Pikachu, a popular ...     -6.236000   \n",
       "57   [The turtle is swimming in the snow., This is ...     -1.471250   \n",
       "58   [The image is a 3D rendering of a watermelon.,...    -13.371250   \n",
       "60   [The person is riding a skateboard on sand., T...     -3.451875   \n",
       "61   [This is a digital artwork of a person on roll...     -7.992632   \n",
       "62   [This is a digitally manipulated image combini...     -0.202308   \n",
       "78   [The crocodile is surrounded by icebergs., The...    -18.165000   \n",
       "81   [The Great Sphinx of Giza is a limestone statu...     -8.869000   \n",
       "83   [This is a digitally altered image of a polar ...     -7.691667   \n",
       "86   [This image depicts a scene from the movie \"Li...     -0.196250   \n",
       "88   [This image captures a group of penguins in mi...     -7.506667   \n",
       "89   [The two walruses are swimming in a body of wa...    -14.541000   \n",
       "95   [The whale is leaping out of the water., This ...    -11.046364   \n",
       "97   [This image captures a serene moment in the wi...    -17.788333   \n",
       "101  [The man is wearing a cowboy hat., The man in ...    -11.891538   \n",
       "\n",
       "     strange_score  \n",
       "2         4.465455  \n",
       "4       -17.468333  \n",
       "8        -0.531818  \n",
       "11      -14.990000  \n",
       "19       -6.316429  \n",
       "21       -1.660000  \n",
       "22       -6.333333  \n",
       "25       -6.706364  \n",
       "28       -0.620769  \n",
       "31       -6.299286  \n",
       "35      -10.501250  \n",
       "36        0.329286  \n",
       "37        7.240833  \n",
       "39       -2.004286  \n",
       "40       -1.540714  \n",
       "42       -0.120000  \n",
       "43      -17.655833  \n",
       "52        4.001250  \n",
       "56      -10.720000  \n",
       "57      -19.732500  \n",
       "58      -10.302222  \n",
       "60       -1.373333  \n",
       "61        2.377778  \n",
       "62      -14.783077  \n",
       "78      -14.280000  \n",
       "81      -11.485000  \n",
       "83       -0.866250  \n",
       "86       -9.212500  \n",
       "88       -6.674000  \n",
       "89      -17.596250  \n",
       "95       -2.246250  \n",
       "97      -16.578571  \n",
       "101      -6.749167  "
      ]
     },
     "execution_count": 19,
     "metadata": {},
     "output_type": "execute_result"
    }
   ],
   "source": [
    "df[df['normal_score'] < 0]"
   ]
  },
  {
   "cell_type": "code",
   "execution_count": 21,
   "id": "7f32fdfb-2c62-452c-a95e-6a21afb2125a",
   "metadata": {},
   "outputs": [],
   "source": [
    "input = df['normal'].loc[4]"
   ]
  },
  {
   "cell_type": "code",
   "execution_count": 22,
   "id": "c315c585-655e-4294-97f6-c931916ae510",
   "metadata": {
    "scrolled": true
   },
   "outputs": [
    {
     "name": "stdout",
     "output_type": "stream",
     "text": [
      "Santa Claus is riding a team of reindeer through a snowy forest. The reindeer are pulling Santa Claus through a snowy forest. 3.775\n",
      "Santa Claus is riding a team of reindeer through a snowy forest. This image depicts a classic holiday scene with Santa Claus and his reindeer. 9.515\n",
      "Santa Claus is riding a team of reindeer through a snowy forest. This is a digital artwork of Santa Claus riding reindeer through a snowy forest. -0.4600000000000002\n",
      "Santa Claus is riding a team of reindeer through a snowy forest. The image features a jovial Santa Claus riding a team of reindeer through a snowy forest. 6.164999999999999\n",
      "The reindeer are pulling Santa Claus through a snowy forest. This image depicts a classic holiday scene with Santa Claus and his reindeer. 10.684999999999999\n",
      "The reindeer are pulling Santa Claus through a snowy forest. This is a digital artwork of Santa Claus riding reindeer through a snowy forest. -2.3099999999999996\n",
      "The reindeer are pulling Santa Claus through a snowy forest. The image features a jovial Santa Claus riding a team of reindeer through a snowy forest. 1.9100000000000004\n",
      "This image depicts a classic holiday scene with Santa Claus and his reindeer. This is a digital artwork of Santa Claus riding reindeer through a snowy forest. 1.6249999999999996\n",
      "This image depicts a classic holiday scene with Santa Claus and his reindeer. The image features a jovial Santa Claus riding a team of reindeer through a snowy forest. -0.34999999999999964\n",
      "This is a digital artwork of Santa Claus riding reindeer through a snowy forest. The image features a jovial Santa Claus riding a team of reindeer through a snowy forest. 6.235\n"
     ]
    }
   ],
   "source": [
    "pairs = list(itertools.combinations(input, r=2))\n",
    "\n",
    "formatted_pairs_1 = [(pair[0], pair[1]) for pair in pairs]\n",
    "formatted_pairs_2 = [(pair[1], pair[0]) for pair in pairs]\n",
    "\n",
    "score_1, score_2 = get_custom_scores(input)\n",
    "\n",
    "for (pair_0, pair_1), s in zip(formatted_pairs_1, score_1):\n",
    "    print(pair_0, pair_1, weighted_agg(s))"
   ]
  },
  {
   "cell_type": "code",
   "execution_count": 23,
   "id": "83602052-fe6f-4064-b24a-187ca62aa00c",
   "metadata": {
    "scrolled": true
   },
   "outputs": [
    {
     "name": "stdout",
     "output_type": "stream",
     "text": [
      "The reindeer are pulling Santa Claus through a snowy forest. Santa Claus is riding a team of reindeer through a snowy forest. -4.6049999999999995\n",
      "This image depicts a classic holiday scene with Santa Claus and his reindeer. Santa Claus is riding a team of reindeer through a snowy forest. -5.035\n",
      "This is a digital artwork of Santa Claus riding reindeer through a snowy forest. Santa Claus is riding a team of reindeer through a snowy forest. 8.47\n",
      "The image features a jovial Santa Claus riding a team of reindeer through a snowy forest. Santa Claus is riding a team of reindeer through a snowy forest. 8.575\n",
      "This image depicts a classic holiday scene with Santa Claus and his reindeer. The reindeer are pulling Santa Claus through a snowy forest. 3.355\n",
      "This is a digital artwork of Santa Claus riding reindeer through a snowy forest. The reindeer are pulling Santa Claus through a snowy forest. 5.27\n",
      "The image features a jovial Santa Claus riding a team of reindeer through a snowy forest. The reindeer are pulling Santa Claus through a snowy forest. 3.38\n",
      "This is a digital artwork of Santa Claus riding reindeer through a snowy forest. This image depicts a classic holiday scene with Santa Claus and his reindeer. 10.155000000000001\n",
      "The image features a jovial Santa Claus riding a team of reindeer through a snowy forest. This image depicts a classic holiday scene with Santa Claus and his reindeer. 10.149999999999999\n",
      "The image features a jovial Santa Claus riding a team of reindeer through a snowy forest. This is a digital artwork of Santa Claus riding reindeer through a snowy forest. 1.8200000000000003\n"
     ]
    }
   ],
   "source": [
    "for (pair_0, pair_1), s in zip(formatted_pairs_2, score_2):\n",
    "    print(pair_0, pair_1, weighted_agg(s))"
   ]
  },
  {
   "cell_type": "markdown",
   "id": "cc7b4e09-8a84-4178-9401-7dfd4f9baf98",
   "metadata": {
    "jp-MarkdownHeadingCollapsed": true
   },
   "source": [
    "### Grid search"
   ]
  },
  {
   "cell_type": "code",
   "execution_count": 30,
   "id": "609a7a26-cac8-4207-b1e0-a62464244eae",
   "metadata": {},
   "outputs": [
    {
     "name": "stderr",
     "output_type": "stream",
     "text": [
      "  0%|          | 0/5 [00:00<?, ?it/s]"
     ]
    },
    {
     "name": "stdout",
     "output_type": "stream",
     "text": [
      "New best acc=50.0% on thr=-7.109999999999999 ent_w=-2, cont_w=-5, neutral_w=-5\n",
      "New best acc=50.49% on thr=-7.01 ent_w=-2, cont_w=-5, neutral_w=-5\n",
      "New best acc=50.98% on thr=-5.710000000000004 ent_w=-2, cont_w=-5, neutral_w=-5\n",
      "New best acc=51.47% on thr=-5.4100000000000055 ent_w=-2, cont_w=-5, neutral_w=-5\n",
      "New best acc=51.96% on thr=-5.1100000000000065 ent_w=-2, cont_w=-5, neutral_w=-5\n",
      "New best acc=52.45% on thr=-4.310000000000009 ent_w=-2, cont_w=-5, neutral_w=-5\n",
      "New best acc=52.94% on thr=-4.21000000000001 ent_w=-2, cont_w=-5, neutral_w=-5\n",
      "New best acc=53.43% on thr=-4.11000000000001 ent_w=-2, cont_w=-5, neutral_w=-5\n",
      "New best acc=54.9% on thr=-3.610000000000012 ent_w=-2, cont_w=-5, neutral_w=-5\n",
      "New best acc=55.88% on thr=-3.510000000000012 ent_w=-2, cont_w=-5, neutral_w=-5\n",
      "New best acc=56.86% on thr=-3.4100000000000126 ent_w=-2, cont_w=-5, neutral_w=-5\n",
      "New best acc=57.84% on thr=-3.310000000000013 ent_w=-2, cont_w=-5, neutral_w=-5\n",
      "New best acc=58.33% on thr=-3.2100000000000133 ent_w=-2, cont_w=-5, neutral_w=-5\n",
      "New best acc=59.31% on thr=-2.410000000000016 ent_w=-2, cont_w=-5, neutral_w=-5\n",
      "New best acc=61.27% on thr=-2.110000000000017 ent_w=-2, cont_w=-5, neutral_w=-5\n",
      "New best acc=61.76% on thr=-2.0100000000000176 ent_w=-2, cont_w=-5, neutral_w=-5\n",
      "New best acc=62.75% on thr=-1.8100000000000183 ent_w=-2, cont_w=-5, neutral_w=-5\n",
      "New best acc=63.73% on thr=-1.5100000000000193 ent_w=-2, cont_w=-5, neutral_w=-5\n",
      "New best acc=64.22% on thr=-1.4100000000000197 ent_w=-2, cont_w=-5, neutral_w=-5\n",
      "New best acc=65.2% on thr=0.8491666666666431 ent_w=-2, cont_w=-5, neutral_w=-4\n",
      "New best acc=67.16% on thr=1.0491666666666424 ent_w=-2, cont_w=-5, neutral_w=-4\n",
      "New best acc=67.65% on thr=1.2491666666666417 ent_w=-2, cont_w=-5, neutral_w=-4\n",
      "New best acc=70.1% on thr=1.6491666666666402 ent_w=-2, cont_w=-5, neutral_w=-4\n",
      "New best acc=70.59% on thr=2.1491666666666385 ent_w=-2, cont_w=-5, neutral_w=-4\n"
     ]
    },
    {
     "name": "stderr",
     "output_type": "stream",
     "text": [
      " 40%|████      | 2/5 [00:34<00:52, 17.34s/it]"
     ]
    },
    {
     "name": "stdout",
     "output_type": "stream",
     "text": [
      "New best acc=71.08% on thr=1.6133333333336033 ent_w=0, cont_w=-4, neutral_w=-2\n"
     ]
    },
    {
     "name": "stderr",
     "output_type": "stream",
     "text": [
      " 60%|██████    | 3/5 [00:52<00:35, 17.75s/it]"
     ]
    },
    {
     "name": "stdout",
     "output_type": "stream",
     "text": [
      "New best acc=71.57% on thr=0.8383333333337575 ent_w=1, cont_w=-5, neutral_w=-2\n",
      "New best acc=72.06% on thr=1.3383333333337646 ent_w=1, cont_w=-5, neutral_w=-2\n",
      "New best acc=72.55% on thr=0.6316666666669626 ent_w=1, cont_w=-3, neutral_w=-1\n"
     ]
    },
    {
     "name": "stderr",
     "output_type": "stream",
     "text": [
      "100%|██████████| 5/5 [01:35<00:00, 19.14s/it]\n"
     ]
    }
   ],
   "source": [
    "from tqdm import tqdm\n",
    "\n",
    "best_acc = 0\n",
    "\n",
    "for ent_w in tqdm(np.arange(-2, 3, 1)):\n",
    "    for cont_w in np.arange(-5, 3, 1):\n",
    "        for neutral_w in np.arange(-5, 3, 1):\n",
    "            if ent_w == 0 and cont_w == 0 and neutral_w == 0:\n",
    "                continue\n",
    "            normal_agg_scores = []\n",
    "            strange_agg_scores = []\n",
    "\n",
    "            for normal_score, strange_score in zip(normal_scores, strange_scores):\n",
    "                normal_agg_scores.append(aggregation(*normal_score, ent_w=ent_w, cont_w=cont_w, neutral_w=neutral_w)[0])\n",
    "                strange_agg_scores.append(aggregation(*strange_score, ent_w=ent_w, cont_w=cont_w, neutral_w=neutral_w)[0])\n",
    "\n",
    "            for thr in np.arange(min(normal_agg_scores + strange_agg_scores),\n",
    "                                 max(normal_agg_scores + strange_agg_scores), \n",
    "                                 0.1):\n",
    "\n",
    "                our_outputs = [el < thr for el in normal_agg_scores + strange_agg_scores]\n",
    "                acc = accuracy_score(true_classes, our_outputs)\n",
    "                if acc > best_acc:\n",
    "                    best_acc = acc\n",
    "                    best_ent_w = ent_w\n",
    "                    best_cont_w = cont_w\n",
    "                    best_neutral_w = neutral_w\n",
    "                    print(f\"New best acc={round(acc * 100, 2)}% on {thr=} {ent_w=}, {cont_w=}, {neutral_w=}\")\n"
   ]
  }
 ],
 "metadata": {
  "kernelspec": {
   "display_name": "Python 3 (ipykernel)",
   "language": "python",
   "name": "python3"
  },
  "language_info": {
   "codemirror_mode": {
    "name": "ipython",
    "version": 3
   },
   "file_extension": ".py",
   "mimetype": "text/x-python",
   "name": "python",
   "nbconvert_exporter": "python",
   "pygments_lexer": "ipython3",
   "version": "3.10.14"
  }
 },
 "nbformat": 4,
 "nbformat_minor": 5
}
