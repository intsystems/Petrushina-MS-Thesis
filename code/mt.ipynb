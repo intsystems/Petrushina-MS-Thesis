{
 "cells": [
  {
   "cell_type": "code",
   "execution_count": 1,
   "id": "4be7fcd5-51e4-42d0-a914-8d009e2755d4",
   "metadata": {},
   "outputs": [],
   "source": [
    "%load_ext autoreload\n",
    "%autoreload 2"
   ]
  },
  {
   "cell_type": "code",
   "execution_count": 14,
   "id": "ea41ba87-bb11-43d0-830e-f738287b21de",
   "metadata": {},
   "outputs": [],
   "source": [
    "from dataset import HallucinationDataset\n",
    "from torch.utils.data import DataLoader\n",
    "\n",
    "train = HallucinationDataset(\"data/val/val.model-agnostic.json\", \"MT\")\n",
    "train_loader = DataLoader(train, batch_size=128)"
   ]
  },
  {
   "cell_type": "code",
   "execution_count": 38,
   "id": "c0182a80-8fcb-4540-9eae-945bba5ab4c0",
   "metadata": {},
   "outputs": [],
   "source": [
    "import torch\n",
    "from transformers import AutoTokenizer, AutoModel\n",
    "from torch.nn.functional import cosine_similarity, cross_entropy\n",
    "\n",
    "tokenizer = AutoTokenizer.from_pretrained(\"cointegrated/LaBSE-en-ru\")\n",
    "model = AutoModel.from_pretrained(\"cointegrated/LaBSE-en-ru\")\n",
    "\n",
    "device = \"cuda\"\n",
    "model.to(device)\n",
    "\n",
    "ce = []\n",
    "acc = []\n",
    "\n",
    "def calculate_acc(preds, label, thr=0.85):\n",
    "    return (label == (preds > thr).int()).float().mean()\n",
    "\n",
    "def get_embeddings(output):\n",
    "    return torch.nn.functional.normalize(output.pooler_output)"
   ]
  },
  {
   "cell_type": "code",
   "execution_count": 43,
   "id": "c1d4e81e-a4ec-4887-a6a4-3ecbebd27e04",
   "metadata": {},
   "outputs": [],
   "source": [
    "all_preds = []\n",
    "all_labels = []\n",
    "\n",
    "for batch in train_loader:\n",
    "    hyp = tokenizer(batch[\"hyp\"], padding=True, truncation=True, max_length=64, return_tensors='pt').to(device)\n",
    "    src = tokenizer(batch[\"src\"], padding=True, truncation=True, max_length=64, return_tensors='pt').to(device)\n",
    "    \n",
    "    with torch.no_grad():\n",
    "        en_emb = get_embeddings(model(**hyp))\n",
    "        ru_emb = get_embeddings(model(**src))\n",
    "\n",
    "    label = list(batch[\"label\"].numpy())\n",
    "    preds = list(cosine_similarity(en_emb, ru_emb).cpu().detach().numpy())\n",
    "\n",
    "    all_preds.extend(preds)\n",
    "    all_labels.extend(label)\n",
    "\n",
    "    # ce.append(cross_entropy(preds, label.float()))\n",
    "    # acc.append(calculate_acc(preds, label))"
   ]
  },
  {
   "cell_type": "code",
   "execution_count": 13,
   "id": "2a30f08d-2852-43ca-bd76-3b2825afd6dd",
   "metadata": {},
   "outputs": [
    {
     "data": {
      "text/plain": [
       "([tensor(272.2440, device='cuda:0'), tensor(199.6543, device='cuda:0')],\n",
       " [tensor(0.7812, device='cuda:0'), tensor(0.7966, device='cuda:0')])"
      ]
     },
     "execution_count": 13,
     "metadata": {},
     "output_type": "execute_result"
    }
   ],
   "source": [
    "ce, acc"
   ]
  },
  {
   "cell_type": "code",
   "execution_count": 44,
   "id": "b4064408-bdb5-4b44-8751-691837a1d4df",
   "metadata": {},
   "outputs": [
    {
     "data": {
      "text/plain": [
       "0.8452131376659678"
      ]
     },
     "execution_count": 44,
     "metadata": {},
     "output_type": "execute_result"
    }
   ],
   "source": [
    "roc_auc_score(all_labels, all_preds)"
   ]
  },
  {
   "cell_type": "code",
   "execution_count": 45,
   "id": "5a63c1eb-d88c-4b82-9ecf-2f5447e65db9",
   "metadata": {},
   "outputs": [
    {
     "name": "stdout",
     "output_type": "stream",
     "text": [
      "0.786096256684492\n"
     ]
    },
    {
     "data": {
      "text/plain": [
       "[<matplotlib.lines.Line2D at 0x7f8d37ebc7c0>]"
      ]
     },
     "execution_count": 45,
     "metadata": {},
     "output_type": "execute_result"
    },
    {
     "data": {
      "image/png": "[encoded data removed]",
      "text/plain": [
       "<Figure size 640x480 with 1 Axes>"
      ]
     },
     "metadata": {},
     "output_type": "display_data"
    }
   ],
   "source": [
    "import numpy as np\n",
    "from matplotlib import pyplot as plt\n",
    "\n",
    "accuracy_lst = []\n",
    "\n",
    "for threshold in np.arange(0.5, 1.0, 0.01):\n",
    "    answers = [int(value) for value in np.array(all_preds) > threshold]\n",
    "    accuracy_lst.append((np.array(all_labels) == np.array(answers)).mean())\n",
    "\n",
    "print(max(accuracy_lst))\n",
    "\n",
    "plt.plot(np.arange(0.5, 1.0, 0.01), accuracy_lst)"
   ]
  },
  {
   "cell_type": "markdown",
   "id": "2ba666f3-c76a-444e-a6c8-211f46c115d8",
   "metadata": {},
   "source": [
    "### Blaser-2.0"
   ]
  },
  {
   "cell_type": "code",
   "execution_count": 3,
   "id": "b7475a80-d519-4550-b322-4a20c4d48d20",
   "metadata": {},
   "outputs": [],
   "source": [
    "from pathlib import Path\n",
    "from typing import List, Sequence, Union\n",
    "\n",
    "import torch\n",
    "from fairseq2.data import Collater, StringLike\n",
    "from fairseq2.data.cstring import CString\n",
    "from fairseq2.data.data_pipeline import read_sequence\n",
    "from fairseq2.data.text import TextTokenizer, read_text\n",
    "from fairseq2.generation import BeamSearchSeq2SeqGenerator, TextTranslator\n",
    "from fairseq2.models.transformer import TransformerDecoderModel\n",
    "from fairseq2.typing import Device\n",
    "\n",
    "from sonar.inference_pipelines.utils import extract_sequence_batch\n",
    "from sonar.models.encoder_model import SonarEncoderModel, SonarEncoderOutput\n",
    "from sonar.models.sonar_text import (\n",
    "    load_sonar_text_decoder_model,\n",
    "    load_sonar_text_encoder_model,\n",
    "    load_sonar_tokenizer,\n",
    ")\n",
    "from sonar.models.sonar_translation import SonarEncoderDecoderModel\n",
    "\n",
    "CPU_DEVICE = torch.device(\"cpu\")\n",
    "\n",
    "class MyTextToEmbeddingModelPipeline(torch.nn.Module):\n",
    "    model: SonarEncoderModel\n",
    "    tokenizer: TextTokenizer\n",
    "\n",
    "    def __init__(\n",
    "        self,\n",
    "        encoder: Union[str, SonarEncoderModel],\n",
    "        tokenizer: Union[str, TextTokenizer],\n",
    "        device: Device = CPU_DEVICE,\n",
    "    ) -> None:\n",
    "        \"\"\"\n",
    "        Args:\n",
    "            encoder (Union[str, SonarEncoderModel]): either cart name or model object\n",
    "            tokenizer (Union[str, TextTokenizer]): either cart name or tokenizer object\n",
    "            device (device, optional): . Defaults to CPU_DEVICE.\n",
    "        \"\"\"\n",
    "        super().__init__()\n",
    "        if isinstance(encoder, str):\n",
    "            encoder = load_sonar_text_encoder_model(\n",
    "                encoder, device=device, progress=True\n",
    "            )\n",
    "        if isinstance(tokenizer, str):\n",
    "            tokenizer = load_sonar_tokenizer(tokenizer, progress=False)\n",
    "\n",
    "        self.tokenizer = tokenizer\n",
    "        self.model = encoder.to(device).eval()\n",
    "        self.device = device\n",
    "\n",
    "    @torch.inference_mode()\n",
    "    def predict(\n",
    "        self, input: Union[Path, Sequence[str]], source_lang: str, batch_size: int = 5\n",
    "    ) -> torch.Tensor:\n",
    "        tokenizer_encoder = self.tokenizer.create_encoder(lang=source_lang)\n",
    "        pipeline = (\n",
    "            (\n",
    "                read_text(input)\n",
    "                if isinstance(input, (str, Path))\n",
    "                else read_sequence(input)\n",
    "            )\n",
    "            .map(tokenizer_encoder)\n",
    "            .bucket(batch_size)\n",
    "            .map(Collater(self.tokenizer.vocab_info.pad_idx))\n",
    "            .map(lambda x: extract_sequence_batch(x, self.device))\n",
    "            .map(self.model)\n",
    "            .and_return()\n",
    "        )\n",
    "\n",
    "        results: List[SonarEncoderOutput] = list(iter(pipeline))\n",
    "\n",
    "        sentence_embeddings = torch.cat([x.sentence_embeddings for x in results], dim=0)\n",
    "        return sentence_embeddings"
   ]
  },
  {
   "cell_type": "code",
   "execution_count": 10,
   "id": "1219bc49-188e-456b-bd40-f0418f157019",
   "metadata": {},
   "outputs": [
    {
     "name": "stderr",
     "output_type": "stream",
     "text": [
      "Using the cached checkpoint of blaser_2_0_qe. Set `force` to `True` to download again.\n",
      "Using the cached checkpoint of text_sonar_basic_encoder. Set `force` to `True` to download again.\n"
     ]
    },
    {
     "data": {
      "text/plain": [
       "BlaserModel(\n",
       "  (mlp): Sequential(\n",
       "    (0): Dropout(p=0.1, inplace=False)\n",
       "    (1): Linear(in_features=4096, out_features=3072, bias=True)\n",
       "    (2): Tanh()\n",
       "    (3): Dropout(p=0.1, inplace=False)\n",
       "    (4): Linear(in_features=3072, out_features=1536, bias=True)\n",
       "    (5): Tanh()\n",
       "    (6): Dropout(p=0.1, inplace=False)\n",
       "    (7): Linear(in_features=1536, out_features=1, bias=True)\n",
       "  )\n",
       ")"
      ]
     },
     "execution_count": 10,
     "metadata": {},
     "output_type": "execute_result"
    }
   ],
   "source": [
    "# from sonar.inference_pipelines.text import TextToEmbeddingModelPipeline\n",
    "from sonar.models.blaser.loader import load_blaser_model\n",
    "\n",
    "blaser = load_blaser_model(\"blaser_2_0_qe\").eval()\n",
    "text_embedder = MyTextToEmbeddingModelPipeline(encoder=\"text_sonar_basic_encoder\", tokenizer=\"text_sonar_basic_encoder\", device=torch.device(\"cuda\"))\n",
    "\n",
    "device = \"cuda\"\n",
    "blaser.to(device)"
   ]
  },
  {
   "cell_type": "code",
   "execution_count": 12,
   "id": "dd52def4-2dec-4830-bf30-3b81c5e202f4",
   "metadata": {},
   "outputs": [
    {
     "name": "stdout",
     "output_type": "stream",
     "text": [
      "4.456824779510498\n"
     ]
    }
   ],
   "source": [
    "src_embs = text_embedder.predict([\"Кот сидит на ковре.\"], source_lang=\"rus_Cyrl\").to(device)\n",
    "mt_embs = text_embedder.predict([\"The cat sat down on the carpet.\"], source_lang=\"eng_Latn\").to(device)\n",
    "print(blaser(src=src_embs, mt=mt_embs).item())"
   ]
  },
  {
   "cell_type": "code",
   "execution_count": 33,
   "id": "c4d40db4-3c9f-45f6-ba4c-275a91ce6a29",
   "metadata": {},
   "outputs": [],
   "source": [
    "all_preds = []\n",
    "all_labels = []\n",
    "\n",
    "for batch in train_loader:\n",
    "\n",
    "    with torch.no_grad():\n",
    "        ru_emb = text_embedder.predict(batch[\"src\"], source_lang=\"rus_Cyrl\").to(device)\n",
    "        en_emb = text_embedder.predict(batch[\"hyp\"], source_lang=\"eng_Latn\").to(device)\n",
    "\n",
    "    label = batch[\"label\"]\n",
    "    preds = blaser(src=ru_emb, mt=en_emb).flatten().cpu() / 5\n",
    "\n",
    "    all_preds.extend(list(preds.detach().numpy()))\n",
    "    all_labels.extend(list(label.numpy()))\n",
    "\n",
    "    ce.append(cross_entropy(preds, label.float()))\n",
    "    acc.append(calculate_acc(preds, label))"
   ]
  },
  {
   "cell_type": "code",
   "execution_count": 36,
   "id": "1ecd0091-c1e9-466a-b599-8ef292542b44",
   "metadata": {},
   "outputs": [
    {
     "data": {
      "text/plain": [
       "0.8525506638714185"
      ]
     },
     "execution_count": 36,
     "metadata": {},
     "output_type": "execute_result"
    }
   ],
   "source": [
    "roc_auc_score(all_labels, all_preds)"
   ]
  },
  {
   "cell_type": "code",
   "execution_count": 22,
   "id": "6f4a9544-1081-4ca4-b238-0efdc644b8b4",
   "metadata": {},
   "outputs": [
    {
     "data": {
      "text/plain": [
       "[tensor(272.8793, device='cuda:0', grad_fn=<DivBackward1>),\n",
       " tensor(199.4337, device='cuda:0', grad_fn=<DivBackward1>)]"
      ]
     },
     "execution_count": 22,
     "metadata": {},
     "output_type": "execute_result"
    }
   ],
   "source": [
    "ce"
   ]
  },
  {
   "cell_type": "code",
   "execution_count": 23,
   "id": "77e4ab1e-a431-4607-b9c9-9027972fdd71",
   "metadata": {},
   "outputs": [
    {
     "data": {
      "text/plain": [
       "[tensor(0.7656, device='cuda:0'), tensor(0.7966, device='cuda:0')]"
      ]
     },
     "execution_count": 23,
     "metadata": {},
     "output_type": "execute_result"
    }
   ],
   "source": [
    "acc"
   ]
  },
  {
   "cell_type": "code",
   "execution_count": 37,
   "id": "dd898370-8e56-46a9-b37a-6214dc9b4b9a",
   "metadata": {},
   "outputs": [
    {
     "name": "stdout",
     "output_type": "stream",
     "text": [
      "0.8021390374331551\n"
     ]
    },
    {
     "data": {
      "text/plain": [
       "[<matplotlib.lines.Line2D at 0x7f8d3c18ee90>]"
      ]
     },
     "execution_count": 37,
     "metadata": {},
     "output_type": "execute_result"
    },
    {
     "data": {
      "image/png": "[encoded data removed]",
      "text/plain": [
       "<Figure size 640x480 with 1 Axes>"
      ]
     },
     "metadata": {},
     "output_type": "display_data"
    }
   ],
   "source": [
    "accuracy_lst = []\n",
    "\n",
    "for threshold in np.arange(0.5, 1.0, 0.01):\n",
    "    answers = [int(value) for value in np.array(all_preds) > threshold]\n",
    "    accuracy_lst.append((np.array(all_labels) == np.array(answers)).mean())\n",
    "\n",
    "print(max(accuracy_lst))\n",
    "\n",
    "plt.plot(np.arange(0.5, 1.0, 0.01), accuracy_lst)"
   ]
  },
  {
   "cell_type": "code",
   "execution_count": null,
   "id": "4b55c98f-1446-45c8-a5d2-1c878a2a5a41",
   "metadata": {},
   "outputs": [],
   "source": []
  }
 ],
 "metadata": {
  "kernelspec": {
   "display_name": "Python 3 (ipykernel)",
   "language": "python",
   "name": "python3"
  },
  "language_info": {
   "codemirror_mode": {
    "name": "ipython",
    "version": 3
   },
   "file_extension": ".py",
   "mimetype": "text/x-python",
   "name": "python",
   "nbconvert_exporter": "python",
   "pygments_lexer": "ipython3",
   "version": "3.10.13"
  }
 },
 "nbformat": 4,
 "nbformat_minor": 5
}
